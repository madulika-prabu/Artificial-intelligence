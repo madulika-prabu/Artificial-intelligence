{
 "cells": [
  {
   "cell_type": "markdown",
   "metadata": {},
   "source": [
    "# **BAYESIAN NETWORK**"
   ]
  },
  {
   "cell_type": "code",
   "execution_count": null,
   "metadata": {},
   "outputs": [],
   "source": [
    "from pgmpy.models import BayesianNetwork\n",
    "from pgmpy.factors.discrete import TabularCPD\n",
    "import networkx as nx\n",
    "import pylab as plt"
   ]
  },
  {
   "cell_type": "code",
   "execution_count": null,
   "metadata": {},
   "outputs": [],
   "source": [
    " # Defining bayesian structure\n",
    "\n",
    "model = BayesianNetwork([ ('Guest', 'Host'),('Price', 'Host') ])"
   ]
  },
  {
   "cell_type": "code",
   "execution_count": null,
   "metadata": {},
   "outputs": [],
   "source": [
    "# Defining the CPDs\n",
    "cpd_guest = TabularCPD('Guest', 3, [ [0.33], [0.33], [0.33] ])\n",
    "cpd_price = TabularCPD('Price', 3, [ [0.33], [0.33], [0.33] ])\n",
    "cpd_host = TabularCPD('Host', 3, [ [0, 0, 0, 0, 0.5, 1, 0, 1, 0.5], \n",
    "                                   [0.5, 0, 1, 0, 0, 0, 1, 0, 0.5],\n",
    "                                   [0.5, 1, 0, 1, 0.5, 0, 0, 0, 0] ],\n",
    "                                   \n",
    "                                   evidence = ['Guest', 'Price'],\n",
    "                                   \n",
    "                                   evidence_card =[3, 3] \n",
    "                                 )"
   ]
  },
  {
   "cell_type": "code",
   "execution_count": null,
   "metadata": {},
   "outputs": [],
   "source": [
    "# Associating the CPDs with network structure\n",
    "\n",
    "model.add_cpds(cpd_guest, cpd_price, cpd_host)\n",
    "model.check_model()"
   ]
  },
  {
   "cell_type": "code",
   "execution_count": null,
   "metadata": {},
   "outputs": [],
   "source": [
    "# Infering the posterior probability\n",
    "\n",
    "from pympg.inference import VariableElimination\n",
    "\n",
    "infer = VariableElimination(model)\n",
    "posterior_p = infer.query(['Host'], evidence = {'Guest' : 2, 'Price' : 2})\n",
    "print(posterior_p)"
   ]
  },
  {
   "cell_type": "code",
   "execution_count": null,
   "metadata": {},
   "outputs": [],
   "source": [
    "nx.draw(model, with_labels = True)\n",
    "plt.savefig('model.png')\n",
    "pl.close()"
   ]
  }
 ],
 "metadata": {
  "language_info": {
   "name": "python"
  }
 },
 "nbformat": 4,
 "nbformat_minor": 2
}
