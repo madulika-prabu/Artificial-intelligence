{
 "cells": [
  {
   "cell_type": "markdown",
   "metadata": {},
   "source": [
    "# **PROPOSITIONAL MODEL CHECKING - DPLL ALGORITHM**\n",
    "\n"
   ]
  },
  {
   "cell_type": "code",
   "execution_count": 1,
   "metadata": {},
   "outputs": [],
   "source": [
    "import sys \n",
    "from copy import deepcopy"
   ]
  },
  {
   "cell_type": "code",
   "execution_count": 2,
   "metadata": {},
   "outputs": [],
   "source": [
    "assign_true = set()\n",
    "assign_false = set()"
   ]
  },
  {
   "cell_type": "code",
   "execution_count": 3,
   "metadata": {},
   "outputs": [],
   "source": [
    "n_props, n_splits = 0, 0"
   ]
  },
  {
   "cell_type": "code",
   "execution_count": 4,
   "metadata": {},
   "outputs": [],
   "source": [
    "def print_cnf(cnf):\n",
    "    s = ''\n",
    "    for i in cnf:\n",
    "        if len(i) > 0:\n",
    "            s += '(' + i.replace(' ', '+') + ')'\n",
    "        \n",
    "    if s == '':\n",
    "        s = '()'\n",
    "    print(s)"
   ]
  },
  {
   "cell_type": "code",
   "execution_count": 11,
   "metadata": {},
   "outputs": [],
   "source": [
    "def solve(cnf, literals):\n",
    "    print('\\nCNF = ',end = '')\n",
    "    print_cnf(cnf)\n",
    "    new_true = []\n",
    "    new_false = []\n",
    "\n",
    "    global assign_true, assign_false, n_props, n_splits\n",
    "\n",
    "    assign_true = set(assign_true)\n",
    "    assign_false = set(assign_false)\n",
    "    n_splits += 1\n",
    "    \n",
    "    cnf = list(set(cnf))\n",
    "\n",
    "    units = [ i for i in cnf if len(i) < 3]\n",
    "    units = list(set(units))\n",
    "\n",
    "    if len(units):\n",
    "        for unit in units:\n",
    "            n_props += 1\n",
    "            if '!' in unit:\n",
    "                assign_false.add(unit[-1])\n",
    "                new_false.append(unit[-1])\n",
    "                i = 0\n",
    "\n",
    "                while True:\n",
    "                    if unit in cnf[i]:\n",
    "                        cnf.remove(cnf[i])\n",
    "                        i -= 1\n",
    "                    \n",
    "                    elif unit[-1] in cnf[i]:\n",
    "                        cnf[i] = cnf[i].replace(unit[-1], '').strip()\n",
    "\n",
    "                    i += 1\n",
    "\n",
    "                    if i >= len(cnf):\n",
    "                        break\n",
    "\n",
    "            else:\n",
    "                assign_true.add(unit)\n",
    "                new_true.append(unit)\n",
    "                i = 0\n",
    "\n",
    "                while True:\n",
    "                    if '!' + unit in cnf[i]:\n",
    "                        cnf[i] = cnf[i].replace('!' + unit, '').strip()\n",
    "                        \n",
    "                        if ' ' in cnf[i]:\n",
    "                            cnf[i] = cnf[i].replace('  ', ' ')\n",
    "\n",
    "                        elif unit in cnf[i]:\n",
    "                            cnf.remove(cnf[i])\n",
    "                            i -= 1\n",
    "                        i += 1\n",
    "                        if i >= learn(cnf):\n",
    "                            break\n",
    "\n",
    "    print('Units = ',units)\n",
    "    print('CNF after unit propagation = ', end='')\n",
    "    print_cnf(cnf)\n",
    "\n",
    "    if len(cnf) == 0:\n",
    "        return True\n",
    "    \n",
    "    if sum(len(clause)==0 for clause in cnf):\n",
    "        for i in new_true:\n",
    "            assign_true.remove(i)\n",
    "\n",
    "        for i in new_false:\n",
    "            asign_false.remove(i)\n",
    "\n",
    "        print('Null clause found, backtracking....')\n",
    "        return False\n",
    "    \n",
    "    literals = [ k for k in list(set(''.join(cnf))) if k.isalpha() ]\n",
    "    x = literals[0]\n",
    "\n",
    "    if solve(deepcopy(cnf) + [x], deepcopy(literals)):\n",
    "        return True\n",
    "    \n",
    "    elif solve(deepcopy(cnf)+['i' + x], deepcopy(literals)):\n",
    "        return True\n",
    "    \n",
    "    else:\n",
    "        for i in new_true:\n",
    "            assign_true.remove(i)\n",
    "        for i in new_false:\n",
    "            assign_false.remove(i)\n",
    "        return False"
   ]
  },
  {
   "cell_type": "code",
   "execution_count": 12,
   "metadata": {},
   "outputs": [
    {
     "ename": "OSError",
     "evalue": "[Errno 22] Invalid argument: '--f=c:\\\\Users\\\\WELCOME\\\\AppData\\\\Roaming\\\\jupyter\\\\runtime\\\\kernel-v2-45209tEJqR6L29Rr.json'",
     "output_type": "error",
     "traceback": [
      "\u001b[1;31m---------------------------------------------------------------------------\u001b[0m",
      "\u001b[1;31mOSError\u001b[0m                                   Traceback (most recent call last)",
      "Cell \u001b[1;32mIn[12], line 29\u001b[0m\n\u001b[0;32m     26\u001b[0m     \u001b[38;5;28mprint\u001b[39m()\n\u001b[0;32m     28\u001b[0m \u001b[38;5;28;01mif\u001b[39;00m \u001b[38;5;18m__name__\u001b[39m \u001b[38;5;241m==\u001b[39m \u001b[38;5;124m'\u001b[39m\u001b[38;5;124m__main__\u001b[39m\u001b[38;5;124m'\u001b[39m:\n\u001b[1;32m---> 29\u001b[0m     \u001b[43mdpll\u001b[49m\u001b[43m(\u001b[49m\u001b[43m)\u001b[49m\n",
      "Cell \u001b[1;32mIn[12], line 4\u001b[0m, in \u001b[0;36mdpll\u001b[1;34m()\u001b[0m\n\u001b[0;32m      1\u001b[0m \u001b[38;5;28;01mdef\u001b[39;00m \u001b[38;5;21mdpll\u001b[39m():\n\u001b[0;32m      2\u001b[0m     \u001b[38;5;28;01mglobal\u001b[39;00m assign_true, assign_false, n_props, n_splits\n\u001b[1;32m----> 4\u001b[0m     input_cnf \u001b[38;5;241m=\u001b[39m \u001b[38;5;28;43mopen\u001b[39;49m\u001b[43m(\u001b[49m\u001b[43msys\u001b[49m\u001b[38;5;241;43m.\u001b[39;49m\u001b[43margv\u001b[49m\u001b[43m[\u001b[49m\u001b[38;5;241;43m1\u001b[39;49m\u001b[43m]\u001b[49m\u001b[43m,\u001b[49m\u001b[43m \u001b[49m\u001b[38;5;124;43m'\u001b[39;49m\u001b[38;5;124;43mr\u001b[39;49m\u001b[38;5;124;43m'\u001b[39;49m\u001b[43m)\u001b[49m\u001b[38;5;241m.\u001b[39mread()\n\u001b[0;32m      5\u001b[0m     literals \u001b[38;5;241m=\u001b[39m [ i \u001b[38;5;28;01mfor\u001b[39;00m i \u001b[38;5;129;01min\u001b[39;00m \u001b[38;5;28mlist\u001b[39m(\u001b[38;5;28mset\u001b[39m(input_cnf)) \u001b[38;5;28;01mif\u001b[39;00m i\u001b[38;5;241m.\u001b[39misalpha() ]\n\u001b[0;32m      6\u001b[0m     cnf \u001b[38;5;241m=\u001b[39m input_cnf\u001b[38;5;241m.\u001b[39msplitlines()\n",
      "File \u001b[1;32mc:\\Users\\WELCOME\\AppData\\Local\\Programs\\Python\\Python311\\Lib\\site-packages\\IPython\\core\\interactiveshell.py:286\u001b[0m, in \u001b[0;36m_modified_open\u001b[1;34m(file, *args, **kwargs)\u001b[0m\n\u001b[0;32m    279\u001b[0m \u001b[38;5;28;01mif\u001b[39;00m file \u001b[38;5;129;01min\u001b[39;00m {\u001b[38;5;241m0\u001b[39m, \u001b[38;5;241m1\u001b[39m, \u001b[38;5;241m2\u001b[39m}:\n\u001b[0;32m    280\u001b[0m     \u001b[38;5;28;01mraise\u001b[39;00m \u001b[38;5;167;01mValueError\u001b[39;00m(\n\u001b[0;32m    281\u001b[0m         \u001b[38;5;124mf\u001b[39m\u001b[38;5;124m\"\u001b[39m\u001b[38;5;124mIPython won\u001b[39m\u001b[38;5;124m'\u001b[39m\u001b[38;5;124mt let you open fd=\u001b[39m\u001b[38;5;132;01m{\u001b[39;00mfile\u001b[38;5;132;01m}\u001b[39;00m\u001b[38;5;124m by default \u001b[39m\u001b[38;5;124m\"\u001b[39m\n\u001b[0;32m    282\u001b[0m         \u001b[38;5;124m\"\u001b[39m\u001b[38;5;124mas it is likely to crash IPython. If you know what you are doing, \u001b[39m\u001b[38;5;124m\"\u001b[39m\n\u001b[0;32m    283\u001b[0m         \u001b[38;5;124m\"\u001b[39m\u001b[38;5;124myou can use builtins\u001b[39m\u001b[38;5;124m'\u001b[39m\u001b[38;5;124m open.\u001b[39m\u001b[38;5;124m\"\u001b[39m\n\u001b[0;32m    284\u001b[0m     )\n\u001b[1;32m--> 286\u001b[0m \u001b[38;5;28;01mreturn\u001b[39;00m \u001b[43mio_open\u001b[49m\u001b[43m(\u001b[49m\u001b[43mfile\u001b[49m\u001b[43m,\u001b[49m\u001b[43m \u001b[49m\u001b[38;5;241;43m*\u001b[39;49m\u001b[43margs\u001b[49m\u001b[43m,\u001b[49m\u001b[43m \u001b[49m\u001b[38;5;241;43m*\u001b[39;49m\u001b[38;5;241;43m*\u001b[39;49m\u001b[43mkwargs\u001b[49m\u001b[43m)\u001b[49m\n",
      "\u001b[1;31mOSError\u001b[0m: [Errno 22] Invalid argument: '--f=c:\\\\Users\\\\WELCOME\\\\AppData\\\\Roaming\\\\jupyter\\\\runtime\\\\kernel-v2-45209tEJqR6L29Rr.json'"
     ]
    }
   ],
   "source": [
    "def dpll():\n",
    "    global assign_true, assign_false, n_props, n_splits\n",
    "\n",
    "    input_cnf = open(sys.argv[1], 'r').read()\n",
    "    literals = [ i for i in list(set(input_cnf)) if i.isalpha() ]\n",
    "    cnf = input_cnf.splitlines()\n",
    "\n",
    "    if solve(cnf, literals):\n",
    "        print('\\nNumber of splits = ', n_splits)\n",
    "        print('Unit propagation = ', n_props)\n",
    "        print('\\nResult : SATISFIABLE ')\n",
    "        print('Solution : ')\n",
    "\n",
    "        for i in assign_true:\n",
    "            print('\\t\\t' +i, '= True')\n",
    "\n",
    "        for i in assign_false:\n",
    "            print('\\t\\t' +i, '= False')\n",
    "    \n",
    "    else:\n",
    "        print('\\nReached starting node ! ')\n",
    "        print('Number of splits = ', n_splits)\n",
    "        print('Unit Propagation = ', n_props)\n",
    "        print('\\nResult : UNSATISFIABLE')\n",
    "\n",
    "    print()\n",
    "\n",
    "if __name__ == '__main__':\n",
    "    dpll()"
   ]
  },
  {
   "cell_type": "code",
   "execution_count": null,
   "metadata": {},
   "outputs": [],
   "source": []
  }
 ],
 "metadata": {
  "kernelspec": {
   "display_name": "Python 3",
   "language": "python",
   "name": "python3"
  },
  "language_info": {
   "codemirror_mode": {
    "name": "ipython",
    "version": 3
   },
   "file_extension": ".py",
   "mimetype": "text/x-python",
   "name": "python",
   "nbconvert_exporter": "python",
   "pygments_lexer": "ipython3",
   "version": "3.11.5"
  }
 },
 "nbformat": 4,
 "nbformat_minor": 2
}
