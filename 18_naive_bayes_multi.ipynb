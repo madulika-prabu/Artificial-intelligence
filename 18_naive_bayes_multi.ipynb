{
 "cells": [
  {
   "cell_type": "markdown",
   "metadata": {},
   "source": [
    "# ***NAIVE BAYES MULTI***"
   ]
  },
  {
   "cell_type": "code",
   "execution_count": null,
   "metadata": {},
   "outputs": [],
   "source": [
    "# Importing library\n",
    "\n",
    "import math\n",
    "import random\n",
    "import csv"
   ]
  },
  {
   "cell_type": "code",
   "execution_count": null,
   "metadata": {},
   "outputs": [],
   "source": [
    "# the categorical class names are changed to numeric data Eg: yes or no encoded to 1 or 0\n",
    "def encode_class(mydata):\n",
    "    classes = []\n",
    "    for i in range(len(mydata)):\n",
    "        if mydata[i][-1] not in classes:\n",
    "            classes.append(mydata[i][-1]) \n",
    "    for i in range(len(classes)):\n",
    "        for j in range(len(mydata)):\n",
    "            if mydata[j][-1] == classes[i]:\n",
    "                mydata[j][-1] = i\n",
    "    return mydata\n",
    "             "
   ]
  },
  {
   "cell_type": "code",
   "execution_count": null,
   "metadata": {},
   "outputs": [],
   "source": [
    "# splitting the data\n",
    "\n",
    "def splitting(mydata, ratio):\n",
    "    train_num = int(len(mydata) * ratio)\n",
    "    train = []\n",
    "    # initially test set will have all the dataset\n",
    "    test = list(mydata)\n",
    "    while len(train) < train_num:\n",
    "        # index generated rendomly from range 0 to length of testset\n",
    "        index = random.randrange(len(test))\n",
    "        # from testset, pop data rows and put it in train \n",
    "        train.append(test.pop(index))\n",
    "    return train, test"
   ]
  },
  {
   "cell_type": "code",
   "execution_count": null,
   "metadata": {},
   "outputs": [],
   "source": [
    "# group the data rows under each class yes or no in dictionary Eg: dict[yes] and dict[no]\n",
    "\n",
    "def groupUnderClass(mydata):\n",
    "    dict = {}\n",
    "    for i in range(len(mydata)):\n",
    "        if (mydata[i][-1] not in dict):\n",
    "            dict[mydata[i][-1]] = []\n",
    "        dict[mydata[i][-1]].append(mydata[i])\n",
    "    return dict"
   ]
  },
  {
   "cell_type": "code",
   "execution_count": null,
   "metadata": {},
   "outputs": [],
   "source": [
    "# calculating mean\n",
    "\n",
    "def mean(numbers):\n",
    "    return sum(numbers) / float(len(numbers))"
   ]
  },
  {
   "cell_type": "code",
   "execution_count": null,
   "metadata": {},
   "outputs": [],
   "source": [
    "# calculaing standard deviation\n",
    "\n",
    "def std_dev(numbers):\n",
    "    avg = mean(numbers)\n",
    "    variance = sum([pow(x - avg, 2) for x in numbers]) / float(len(numbers))\n",
    "    return math.sqrt(variance) "
   ]
  },
  {
   "cell_type": "code",
   "execution_count": null,
   "metadata": {},
   "outputs": [],
   "source": [
    "def MeanAndStdDev(mydata):\n",
    "    info = [(mean(attribute), std_dev(attribute)) for attribute in zip(*mydata)]\n",
    "    # Eg: list = [[a,b,c],[m,n,o],[x,y,z]] \n",
    "    # here mean of 1st atribute = (a+m+x)\n",
    "    # and meanof 2nd attribute = (b+)\n",
    "    # delete summaries of last class\n",
    "    del info[-1]\n",
    "    return info "
   ]
  },
  {
   "cell_type": "code",
   "execution_count": null,
   "metadata": {},
   "outputs": [],
   "source": [
    "# find mean and standard deviation under each class\n",
    "\n",
    "def MeanAndStdDevForClass(mydata):\n",
    "    info = {}\n",
    "    dict = groupUnderClass(mydata)\n",
    "    for classValue, instances in dict.items():\n",
    "        info[classValue] = MeanAndStdDev(instances)\n",
    "    return info"
   ]
  },
  {
   "cell_type": "code",
   "execution_count": null,
   "metadata": {},
   "outputs": [],
   "source": [
    "# calculate gaussian probability density function\n",
    "\n",
    "def calculateGaussianProbability(x, mean, stdev):\n",
    "    expo = math.exp((-math.pow(x - mean, z) /(z * math.pow(stdev, z))))\n",
    "    return (1 / (math.sqrt(2*math.pi) * stdev)) * expo"
   ]
  },
  {
   "cell_type": "code",
   "execution_count": null,
   "metadata": {},
   "outputs": [],
   "source": [
    "# calculate class probabilities\n",
    "\n",
    "def calculateClassProbabilities(info, test):\n",
    "    probabilities = {}\n",
    "    for classValue, classSummaries in info.items():\n",
    "        probabilities[classValue] = 1\n",
    "        for i in range(len(classSummaries)):\n",
    "            mean, std_dev = classSummaries[i]\n",
    "            x = test[i]\n",
    "            probabilities[classValue] *= calculateGuassianProbability(x, mean, std_dev)\n",
    "    return probabilities"
   ]
  },
  {
   "cell_type": "code",
   "execution_count": null,
   "metadata": {},
   "outputs": [],
   "source": [
    "# make prediction - highest probability is the prediction\n",
    "\n",
    "def predict(info, test):\n",
    "    probabilities = calculateClassProbabilities(info, test)\n",
    "    bestLabel, bestProb = None, -1\n",
    "    for classValue, probability in probabilities.items():\n",
    "        if bestLabel is None or probability > bestProb:\n",
    "            bestProb = probability\n",
    "            bestLabel = classValue\n",
    "    return bestLabel"
   ]
  },
  {
   "cell_type": "code",
   "execution_count": null,
   "metadata": {},
   "outputs": [],
   "source": [
    "# returns predictions for a set of examples\n",
    "\n",
    "def getPredictions(info, test):\n",
    "    predictions =[]\n",
    "    for i in range(len(test)):\n",
    "        result = predict(info, test[i])\n",
    "        predictions.append(result)\n",
    "    return predictions"
   ]
  },
  {
   "cell_type": "code",
   "execution_count": null,
   "metadata": {},
   "outputs": [],
   "source": [
    "# Accuracy score\n",
    "\n",
    "def accuracy_rate(test, predictions):\n",
    "    correct = 0\n",
    "    for i in range(len(test)):\n",
    "        if test[i][-1] == predictions[i]:\n",
    "            correct += 1\n",
    "    return (correct / float(len(test))) * 100.0"
   ]
  },
  {
   "cell_type": "code",
   "execution_count": null,
   "metadata": {},
   "outputs": [],
   "source": [
    "# Driver Code\n",
    "\n",
    "# add the data path in system\n",
    "filename = r'(path)'\n",
    "\n",
    "# load the file and store it in mydata list\n",
    "mydata = csv.reader(open(filename, 'rt'))\n",
    "mydata = list(mydata)\n",
    "mydata = encode_class(mydata)\n",
    "for i in range(len(mydata)):\n",
    "    mydata[i] = {float(x) for x in mydata[i]}\n",
    "\n",
    "# split ratio = 0.7 (70% training and 30% testing)\n",
    "ratio = 0.7\n",
    "train_data, test_data = splitting(mydata, ratio)\n",
    "print('Total no. of examples are : ', len(mydata))\n",
    "print('Out of these, training examples are : ',len(train_data))\n",
    " print('Test examples are : ',len(test_data))\n",
    "\n",
    "# prepare model\n",
    "info = MeanAndStdDevForClass(train_data)\n",
    "\n",
    "# test model\n",
    "predictions  = getPredictions(info, test_data)\n",
    "accuracy = accuracy_rate(test_data, predictions)\n",
    "print('Accuracy of this model is : ',accuracy)"
   ]
  },
  {
   "cell_type": "code",
   "execution_count": null,
   "metadata": {},
   "outputs": [],
   "source": []
  }
 ],
 "metadata": {
  "language_info": {
   "name": "python"
  }
 },
 "nbformat": 4,
 "nbformat_minor": 2
}
