{
 "cells": [
  {
   "cell_type": "markdown",
   "metadata": {},
   "source": [
    "# **Greedy best first search - Informed search**\n",
    "\n",
    "* It is the combination of dfs and bfs. It uses heuristic function and search.\n",
    "* Always selects the path which appears best at the moment.\n",
    "* With the help of Best first search, at each step, we can choose the most promosing node\n",
    "* In the best first search algorithm, we expand the node which is closest to the goal node and the closest cost is estimated by heuristic function [ f(n) = g(n) ] where h(n) = estimated cost from node n to the goal"
   ]
  },
  {
   "cell_type": "code",
   "execution_count": 1,
   "metadata": {},
   "outputs": [],
   "source": [
    "graph = {\n",
    "    'A' : [('B', 12), ('C', 4)],\n",
    "    'B' : [('D', 7), ('E', 3)],\n",
    "    'C' : [('F', 8), ('G', 2)],\n",
    "    'D' : [],\n",
    "    'E' : [('H', 0)],\n",
    "    'F' : [('H', 0)],\n",
    "    'G' : [('H', 0)]\n",
    "}"
   ]
  },
  {
   "cell_type": "code",
   "execution_count": 2,
   "metadata": {},
   "outputs": [
    {
     "name": "stdout",
     "output_type": "stream",
     "text": [
      "A\n",
      "C\n",
      "G\n",
      "H\n"
     ]
    }
   ],
   "source": [
    "def gbfs(start, target, graph, queue=[], visited=[]):\n",
    "    if start not in visited:\n",
    "        print(start)\n",
    "        visited.append(start)\n",
    "\n",
    "    queue = queue + [ x for x in graph[start] if x[0][0] not in visited]\n",
    "    queue.sort( key = lambda x:x[1] )\n",
    "\n",
    "    if queue[0][0] == target:\n",
    "        print(queue[0][0])\n",
    "\n",
    "    else:\n",
    "        processing = queue[0]\n",
    "        queue.remove(processing)\n",
    "        gbfs(processing[0], target, graph, queue, visited)\n",
    "\n",
    "\n",
    "gbfs('A', 'H', graph)"
   ]
  },
  {
   "cell_type": "code",
   "execution_count": null,
   "metadata": {},
   "outputs": [],
   "source": []
  }
 ],
 "metadata": {
  "kernelspec": {
   "display_name": "Python 3",
   "language": "python",
   "name": "python3"
  },
  "language_info": {
   "codemirror_mode": {
    "name": "ipython",
    "version": 3
   },
   "file_extension": ".py",
   "mimetype": "text/x-python",
   "name": "python",
   "nbconvert_exporter": "python",
   "pygments_lexer": "ipython3",
   "version": "3.11.5"
  }
 },
 "nbformat": 4,
 "nbformat_minor": 2
}
