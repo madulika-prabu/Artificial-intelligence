{
 "cells": [
  {
   "cell_type": "markdown",
   "metadata": {},
   "source": [
    "# **MINIMAX ALGORITHM**\n",
    "\n",
    "* It is a recursive or backtracking algo which is used in decision making and game theory\n",
    "* It provides an optimal move for the player assuming the opponent is also playing optimally\n",
    "* It uses recursion to search through the game tree\n",
    "* It is mostly used for game playing in AI. Such as chess, checkers, tic tac toe, go and various 2-player game, one is MAX and other is MIN. The algo computes the minmax decision for current state\n",
    "* Both the players fight it as the opponent player of each other , where MAX will select the maximized value and MIN will select minimized value\n",
    "* They perform a dfs algo for exploration of complete game tree\n",
    "* Both the players fight it as the opponent players get the minimum benefit while they get maximum benefit\n",
    "* It proceeds all the way down to terminal node of the tree, then backtrack the tree as the recursion \n",
    "* Graph:\n",
    "                                                     \n",
    "                                                      A -----------------------> MAXIMIZER\n",
    "                                                     / \\\n",
    "                                                    /   \\\n",
    "                                                   /     \\\n",
    "                                                  /       \\\n",
    "                                                 /         \\\n",
    "                                                B           C -----------------> MINIMIZER\n",
    "                                               / \\         / \\\n",
    "                                              /   \\       /   \\\n",
    "                                              D    E     F     G---------------> MAXIMIZER\n",
    "                                             / \\  / \\   / \\   / \\\n",
    "                                            H  I  J  K  L  M  N  O ------------> MINIMIZER (TERMINAL NODE)"
   ]
  },
  {
   "cell_type": "code",
   "execution_count": 1,
   "metadata": {},
   "outputs": [],
   "source": [
    "import math"
   ]
  },
  {
   "cell_type": "code",
   "execution_count": 2,
   "metadata": {},
   "outputs": [],
   "source": [
    "def minimax(curDepth, nodeIndex, maxTurn, scores, targetDepth):\n",
    "    \n",
    "    # Base case : targetDepth reached\n",
    "    if (curDepth == targetDepth):\n",
    "        return scores[nodeIndex]\n",
    "\n",
    "    if (maxTurn):\n",
    "        return max(minimax(curDepth+1, nodeIndex*2, False, scores, targetDepth),\n",
    "                   minimax(curDepth+1, nodeIndex*2 +1, False, scores, targetDepth))\n",
    "\n",
    "    else: \n",
    "        return min(minimax(curDepth+1, nodeIndex*2, True, scores, targetDepth),\n",
    "                   minimax(curDepth+1, nodeIndex*2 +1, True, scores, targetDepth))"
   ]
  },
  {
   "cell_type": "code",
   "execution_count": 3,
   "metadata": {},
   "outputs": [],
   "source": [
    "# Driver code\n",
    "scores = [-1, 4, 2, 6, -3, -5, 0, 7]"
   ]
  },
  {
   "cell_type": "code",
   "execution_count": 4,
   "metadata": {},
   "outputs": [
    {
     "name": "stdout",
     "output_type": "stream",
     "text": [
      "Tree Depth 3.0\n"
     ]
    }
   ],
   "source": [
    "treeDepth = math.log( len(scores), 2 )\n",
    "print('Tree Depth', treeDepth)"
   ]
  },
  {
   "cell_type": "code",
   "execution_count": 5,
   "metadata": {},
   "outputs": [
    {
     "name": "stdout",
     "output_type": "stream",
     "text": [
      "The optimal value is : 4\n"
     ]
    }
   ],
   "source": [
    "print('The optimal value is : ' , end ='')\n",
    "print( minimax(0, 0, True, scores, treeDepth) )"
   ]
  },
  {
   "cell_type": "code",
   "execution_count": null,
   "metadata": {},
   "outputs": [],
   "source": []
  }
 ],
 "metadata": {
  "kernelspec": {
   "display_name": "Python 3",
   "language": "python",
   "name": "python3"
  },
  "language_info": {
   "codemirror_mode": {
    "name": "ipython",
    "version": 3
   },
   "file_extension": ".py",
   "mimetype": "text/x-python",
   "name": "python",
   "nbconvert_exporter": "python",
   "pygments_lexer": "ipython3",
   "version": "3.11.5"
  }
 },
 "nbformat": 4,
 "nbformat_minor": 2
}
