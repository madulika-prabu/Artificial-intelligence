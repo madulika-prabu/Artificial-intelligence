{
 "cells": [
  {
   "cell_type": "markdown",
   "metadata": {},
   "source": [
    "# **FORWARD CHAINING**"
   ]
  },
  {
   "cell_type": "code",
   "execution_count": null,
   "metadata": {},
   "outputs": [],
   "source": [
    "# Import Libraries\n",
    "\n",
    "import aima\n",
    "from aima.utils import *\n",
    "import aima.logic"
   ]
  },
  {
   "cell_type": "code",
   "execution_count": null,
   "metadata": {},
   "outputs": [],
   "source": [
    "# create an array to hold clauses\n",
    "\n",
    "clauses = []"
   ]
  },
  {
   "cell_type": "code",
   "execution_count": null,
   "metadata": {},
   "outputs": [],
   "source": [
    "# add first-order logic clauses (rules and fact)\n",
    "\n",
    "clauses.append(aima.utils.expr( '(American(x) & Weapon(y) & sells(z, y, z) & Hostile(z)) ==> Criminal(x)' ))\n",
    "\n",
    "clauses.append(aima.utils.expr( 'Enemy(Nono, America)' ))\n",
    "\n",
    "clauses.append(aima.utils.expr( 'Owns(Nono, M1)' ))\n",
    "\n",
    "clauses.append(aima.utils.expr( 'Missile(M1)' ))\n",
    "\n",
    "clauses.append(aima.utils.expr( '(Missile(x) & Owns(Nono, x)) ==> sells(West, x, Nono)' ))\n",
    "\n",
    "clauses.append(aima.utils.expr( 'American(West)' ))\n",
    "\n",
    "clauses.append(aima.utils.expr( 'Missile(x) ==> Weapon(x)' ))"
   ]
  },
  {
   "cell_type": "code",
   "execution_count": null,
   "metadata": {},
   "outputs": [],
   "source": [
    "# create a first-order logic knowledge base (KB) with clauses\n",
    "\n",
    "KB = aima.logic.FolKB(clauses)"
   ]
  },
  {
   "cell_type": "code",
   "execution_count": null,
   "metadata": {},
   "outputs": [],
   "source": [
    "# Add rules and facts with tell\n",
    "\n",
    "KB.tell(aima.utils.expr('Enemy(Coco, America)'))\n",
    "\n",
    "KB.tell(aima.utils.expr('Enemy(Jojo, America)'))\n",
    "\n",
    "KB.tell(aima.utils.expr('Enemy(x, America) ==> Hostile(x)'))"
   ]
  },
  {
   "cell_type": "code",
   "execution_count": null,
   "metadata": {},
   "outputs": [],
   "source": [
    "# Get information from the knowledge base with ask\n",
    "\n",
    "hostile = aima.logic.fol_fc_ask(KB, aima.utils.expr('Hostile(x)'))\n",
    "\n",
    "criminal = aima.logic.fol_fc_ask(KB, aima.utils.expr('Criminal(x)'))"
   ]
  },
  {
   "cell_type": "code",
   "execution_count": null,
   "metadata": {},
   "outputs": [],
   "source": [
    "# print answers\n",
    "\n",
    "print('Hostile?')\n",
    "print(list(Hostile))\n",
    "print('\\nCriminal?')\n",
    "print(list(criminal))"
   ]
  }
 ],
 "metadata": {
  "language_info": {
   "name": "python"
  }
 },
 "nbformat": 4,
 "nbformat_minor": 2
}
