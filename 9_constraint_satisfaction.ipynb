{
 "cells": [
  {
   "cell_type": "markdown",
   "metadata": {},
   "source": [
    "# **CONSTRAINT SATISFACTION PROBLEM - MAP COLORING**\n",
    "\n",
    "⇒ A problem that requires its solution within some limitations/conditions also known as constraints.\n",
    "\n",
    "⇒ A finite set of variables which stores the solution. V = {V1, V2, V3, ......, Vn}\n",
    "\n",
    "⇒ A set of discrete values known as domain from which the solution is picked . D = {D1, D2, D3, ......, Dn}\n",
    "\n",
    "⇒ A finite set of Constraints. C = {C1, C2, C3, ......, Cn}\n",
    "\n",
    "⇒ A constraint satisfaction problem (CSP) is defined by set of variables {X1, X2, X3, ......, Xn} and set of constraints {C1, C2, C3, ......, Cn}. Each variable X1 has a non-empty domain D, of possible values. Each constraints C, involves some subset of variables and specifies the allowable combinations of values for that subset.\n",
    "\n",
    "⇒ The map coloring problem. The task of coloring each region red, green or blue in such a way that no neighbouring regions have the same color.\n",
    "\n",
    "(a) - The principle states and territories of australia. Colouring this map can be viewed as Constraint Satisfaction problem (CSP). The goal is to\n",
    "assign color to each region so that no neighboring regions have the Same color.\n",
    "\n",
    "(b) - The map-colouring problem represented as a constraint graph."
   ]
  },
  {
   "cell_type": "code",
   "execution_count": 17,
   "metadata": {},
   "outputs": [],
   "source": [
    "domains = ['Red', 'Blue', 'Green']"
   ]
  },
  {
   "cell_type": "code",
   "execution_count": 18,
   "metadata": {},
   "outputs": [],
   "source": [
    "variables = ['Western Australia', 'Northern Territory', 'South Australia', 'Queensland', 'New south wales', 'Victoria', 'Tasmania']"
   ]
  },
  {
   "cell_type": "code",
   "execution_count": 19,
   "metadata": {},
   "outputs": [],
   "source": [
    "neighbors = {}"
   ]
  },
  {
   "cell_type": "code",
   "execution_count": 20,
   "metadata": {},
   "outputs": [],
   "source": [
    "neighbors['Western Australia'] = [ 'Northern Territory', 'South Australia' ]\n",
    "\n",
    "neighbors['Northern Territory'] = [ 'Western Australia', 'South Australia', 'Queensland' ]\n",
    "\n",
    "neighbors['South Australia'] = [ 'Western Australia', 'Northern Territory', 'Queensland', 'New south wales', 'Victoria' ]\n",
    "\n",
    "neighbors['Queensland'] = [ 'Northern Territory', 'South Australia', 'New south wales' ]\n",
    "\n",
    "neighbors['New south wales'] = [ 'Queensland', 'South Australia', 'Victoria' ]\n",
    "\n",
    "neighbors['Victoria'] = [ 'South Australia', 'New south wales' ]\n",
    "\n",
    "neighbors['Tasmania'] = [ 'Victoria' ]"
   ]
  },
  {
   "cell_type": "code",
   "execution_count": 27,
   "metadata": {},
   "outputs": [],
   "source": [
    "colors_of_states = {}"
   ]
  },
  {
   "cell_type": "code",
   "execution_count": 28,
   "metadata": {},
   "outputs": [],
   "source": [
    "def promising(state, color):\n",
    "    for neighbor in neighbors.get(state):\n",
    "        color_of_neighbor = colors_of_states.get(neighbor)\n",
    "\n",
    "        if color_of_neighbor == color:\n",
    "            return False\n",
    "    \n",
    "    return True"
   ]
  },
  {
   "cell_type": "code",
   "execution_count": 29,
   "metadata": {},
   "outputs": [],
   "source": [
    "def get_color_for_state(state):\n",
    "    for color in domains:\n",
    "        if promising( state, color ):\n",
    "            return color"
   ]
  },
  {
   "cell_type": "code",
   "execution_count": 30,
   "metadata": {},
   "outputs": [
    {
     "name": "stdout",
     "output_type": "stream",
     "text": [
      "{'Western Australia': 'Red', 'Northern Territory': 'Blue', 'South Australia': 'Green', 'Queensland': 'Red', 'New south wales': 'Blue', 'Victoria': 'Red', 'Tasmania': 'Blue'}\n"
     ]
    }
   ],
   "source": [
    "def main():\n",
    "    for state in variables:\n",
    "        colors_of_states[state] = get_color_for_state(state)\n",
    "\n",
    "    print(colors_of_states)\n",
    "\n",
    "main()"
   ]
  },
  {
   "cell_type": "code",
   "execution_count": null,
   "metadata": {},
   "outputs": [],
   "source": []
  }
 ],
 "metadata": {
  "kernelspec": {
   "display_name": "Python 3",
   "language": "python",
   "name": "python3"
  },
  "language_info": {
   "codemirror_mode": {
    "name": "ipython",
    "version": 3
   },
   "file_extension": ".py",
   "mimetype": "text/x-python",
   "name": "python",
   "nbconvert_exporter": "python",
   "pygments_lexer": "ipython3",
   "version": "3.11.5"
  }
 },
 "nbformat": 4,
 "nbformat_minor": 2
}
