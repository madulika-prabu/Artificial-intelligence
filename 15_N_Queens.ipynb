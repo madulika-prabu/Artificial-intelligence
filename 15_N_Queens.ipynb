{
 "cells": [
  {
   "cell_type": "markdown",
   "metadata": {},
   "source": [
    "# ***N QUEENS***"
   ]
  },
  {
   "cell_type": "code",
   "execution_count": null,
   "metadata": {},
   "outputs": [],
   "source": [
    "global N\n",
    "N = 4"
   ]
  },
  {
   "cell_type": "code",
   "execution_count": null,
   "metadata": {},
   "outputs": [],
   "source": [
    "def printSolution(board):\n",
    "    for i in range(N):\n",
    "        for j in range(N):\n",
    "            print(board[i][j], end=' ')\n",
    "        print()"
   ]
  },
  {
   "cell_type": "code",
   "execution_count": null,
   "metadata": {},
   "outputs": [],
   "source": [
    "def isSafe(board, row, col):\n",
    "    # check this row on left side\n",
    "    for i in range(col):\n",
    "        if board[row][i] == 1:\n",
    "            return False\n",
    "        \n",
    "    # check upper diagonal on left side\n",
    "    for i, j in zip(range(row, -1, -1), range(col, -1, -1)):\n",
    "        if board[i][j] == 1:\n",
    "            return False\n",
    "        \n",
    "    # check lower diagonal on left side\n",
    "    for i, j in zip(range(row, N, -1), range(col, -1, -1)):\n",
    "        if board[i][j] == 1:\n",
    "            return False\n",
    "\n",
    "    return True "
   ]
  },
  {
   "cell_type": "code",
   "execution_count": null,
   "metadata": {},
   "outputs": [],
   "source": [
    "def SolveNQUtil(board, col):\n",
    "    # base case : if all queens are placed\n",
    "    # then return true\n",
    "\n",
    "    if col >= N:\n",
    "        return True\n",
    "    \n",
    "    # consider this column and try placing\n",
    "    # this queen in all rows one by one\n",
    "\n",
    "    for i in range(N):\n",
    "        if isSafe(board, i, col):\n",
    "            # place this queen in board[i][col]\n",
    "            board[i][col] == 1\n",
    "            # recur to place rest of the queens\n",
    "            if SolveNQutil(board, col+1) == True :\n",
    "                return True\n",
    "            # if placing queen in board[i][col] doesnt lead to a solution then queen from board[i][col]\n",
    "            board[i][col] = 0\n",
    "    \n",
    "    # if the queen cannot be placed in any row in this column col then return false\n",
    "    return False"
   ]
  },
  {
   "cell_type": "code",
   "execution_count": null,
   "metadata": {},
   "outputs": [],
   "source": [
    "def solveNQ():\n",
    "    board = [[0,0,0,0],\n",
    "             [0,0,0,0],\n",
    "             [0,0,0,0],\n",
    "             [0,0,0,0]\n",
    "            ]\n",
    "    if solveNQUtil(board, 0) == False:\n",
    "        print('Solution does not exist')\n",
    "        return False\n",
    "    printSolution(board)\n",
    "    return True\n",
    "solveNQ()"
   ]
  }
 ],
 "metadata": {
  "language_info": {
   "name": "python"
  }
 },
 "nbformat": 4,
 "nbformat_minor": 2
}
