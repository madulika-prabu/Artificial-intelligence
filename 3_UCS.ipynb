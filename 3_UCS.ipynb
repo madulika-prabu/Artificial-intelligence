{
 "cells": [
  {
   "cell_type": "markdown",
   "metadata": {},
   "source": [
    "# **Uniform cost search - Uninformed search**\n",
    "\n",
    "* Expands the node n with lowest path cost. It does not care about the number of steps a path has, but only about the cost\n",
    "* Expanding nodewith lowest path cost is done by priority queue\n",
    "* when all steps are equal, bfs is optimal bcoz it always expands the shallowest unexpected node"
   ]
  },
  {
   "cell_type": "code",
   "execution_count": null,
   "metadata": {},
   "outputs": [],
   "source": [
    "graph = {\n",
    "    'S' : [('A', 2), ('B', 3), ('D', 5)],\n",
    "    'A' : [('C', 4)],\n",
    "    'B' : [('D', 4)],\n",
    "    'C' : [('D', 1), ('G', 2)],\n",
    "    'D' : [('G', 5)],\n",
    "    'G' : []\n",
    "}"
   ]
  },
  {
   "cell_type": "code",
   "execution_count": null,
   "metadata": {},
   "outputs": [],
   "source": [
    "def path_cost(path):\n",
    "    total_cost = 0\n",
    "    for node, cost in path:\n",
    "        total_cost = total_cost + cost\n",
    "\n",
    "    return total_cost, path[-1][0]"
   ]
  },
  {
   "cell_type": "code",
   "execution_count": null,
   "metadata": {},
   "outputs": [],
   "source": [
    "def ucs(graph, start, goal):\n",
    "    visited = []\n",
    "    queue = [[start, 0]]\n",
    "\n",
    "    while queue:\n",
    "        queue.sort(key = path_cost)         # Sorting by cost\n",
    "        path = queue.pop(0)                 # Choosing least cost\n",
    "        node = path[-1][0]\n",
    "        \n",
    "        if node in visited:\n",
    "            continue\n",
    "        visited.append(node)\n",
    "        \n",
    "        if node == goal:\n",
    "            return path\n",
    "        \n",
    "        else:\n",
    "            adjacent_node = graph.get(node, [])\n",
    "            \n",
    "            for node2, cost in adjacent_nodes:\n",
    "                new_path = path.copy()\n",
    "                new_path.append((node2, cost))\n",
    "                queue.append(new_path)\n",
    "\n",
    "\n",
    "solution = ucs(graph, 'S', 'G')\n",
    "\n",
    "print('Solution is ', solution)\n",
    "print('Cost of the solution is ', path_cost(solution)[0])\n"
   ]
  }
 ],
 "metadata": {
  "language_info": {
   "name": "python"
  }
 },
 "nbformat": 4,
 "nbformat_minor": 2
}
