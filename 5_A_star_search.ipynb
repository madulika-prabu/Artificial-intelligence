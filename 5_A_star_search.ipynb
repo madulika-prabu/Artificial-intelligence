{
 "cells": [
  {
   "cell_type": "markdown",
   "metadata": {},
   "source": [
    "# **A star search - Informed search**\n",
    "\n",
    "* It is the known form of best first search. \n",
    "* It uses heuristic function h(n), cost to reach the node n from the start state g(n).\n",
    "* It has combined features of UCS and greedy best first search, by which it solve the problem efficiently. A * search is similar to UCS except that it uses [ g(n) + h(n) ] instead g(n)\n",
    "* Finds the shortest path through the search space using the heuristic function\n",
    "* This algo expands less search trees and provides optimal result faster\n",
    "* We use search heuristic as well as the cost to reach the node. Hence we can combine both costs as following and this sum is called as fitness number.\n",
    "                                   f(n) = g(n) + h(n)\n",
    "1. f(n) --> Estimated cost of cheapest solution\n",
    "2. g(n) --> Cost to reach node n from start state\n",
    "3. h(n) --> Cost to reach from node n to goal node\n",
    "\n",
    "* At each point in search space, only those node is expanded which have the lowest value of f(n), the algorithm terminates when goal node is found "
   ]
  },
  {
   "cell_type": "code",
   "execution_count": 1,
   "metadata": {},
   "outputs": [],
   "source": [
    "graph = [\n",
    "    ['S' , 'E' , 180 , 137],\n",
    "    ['S' , 'X' , 62 , 275],\n",
    "    ['S' , 'Y' , 92 , 250],\n",
    "    ['E' , 'L' , 82 , 130],\n",
    "    ['E' , 'A' , 70 , 140],\n",
    "    ['L' , 'F' , 210 , 250],\n",
    "    ['A' , 'R' , 80 , 85],\n",
    "    ['F' , 'H' , 195 , 0],\n",
    "    ['R' , 'C' , 110 , 108],\n",
    "    ['C' , 'H' , 100 , 0]\n",
    "]"
   ]
  },
  {
   "cell_type": "code",
   "execution_count": 2,
   "metadata": {},
   "outputs": [],
   "source": [
    "temp = []\n",
    "temp1 = []"
   ]
  },
  {
   "cell_type": "code",
   "execution_count": 3,
   "metadata": {},
   "outputs": [],
   "source": [
    "for i in graph :\n",
    "    temp.append(i[0])\n",
    "    temp1.append(i[1])"
   ]
  },
  {
   "cell_type": "code",
   "execution_count": 4,
   "metadata": {},
   "outputs": [],
   "source": [
    "nodes = set(temp).union(set(temp1))"
   ]
  },
  {
   "cell_type": "code",
   "execution_count": 5,
   "metadata": {},
   "outputs": [
    {
     "name": "stdout",
     "output_type": "stream",
     "text": [
      "path with least cost is :  S->E->A->R->C->H\n"
     ]
    }
   ],
   "source": [
    "def A_star(graph, costs, open, closed, cur_node):\n",
    "    if cur_node in open:\n",
    "        open.remove(cur_node)\n",
    "    closed.add(cur_node)\n",
    "\n",
    "    for i in graph:\n",
    "        if ( i[0] == cur_node and costs[i[0]] + i[2] + i[3] < costs[i[1]] ):\n",
    "            open.add(i[1])\n",
    "            costs[i[1]] = costs[i[0]] + i[2] +i[3]\n",
    "            path[i[1]] = path[i[0]] + '->' + i[1]\n",
    "        \n",
    "    costs[cur_node] = 999999\n",
    "    small = min (costs, key=costs.get )\n",
    "\n",
    "    if small not in closed:\n",
    "        A_star(graph, costs, open, closed, small)\n",
    "\n",
    "\n",
    "costs = dict()\n",
    "temp_cost = dict()\n",
    "path = dict()\n",
    "\n",
    "for i in nodes:\n",
    "    costs[i] = 999999\n",
    "    path[i] = ' '\n",
    "\n",
    "open = set()\n",
    "closed = set()\n",
    "\n",
    "start_node = input('Enter the start node : ')\n",
    "\n",
    "open.add(start_node)\n",
    "path[start_node] = start_node\n",
    "costs[start_node] = 0\n",
    "\n",
    "A_star(graph, costs, open, closed, start_node)\n",
    "\n",
    "goal_node = input('Enter the Goal node : ')\n",
    "\n",
    "print('path with least cost is : ',path[goal_node])"
   ]
  },
  {
   "cell_type": "code",
   "execution_count": null,
   "metadata": {},
   "outputs": [],
   "source": []
  }
 ],
 "metadata": {
  "kernelspec": {
   "display_name": "Python 3",
   "language": "python",
   "name": "python3"
  },
  "language_info": {
   "codemirror_mode": {
    "name": "ipython",
    "version": 3
   },
   "file_extension": ".py",
   "mimetype": "text/x-python",
   "name": "python",
   "nbconvert_exporter": "python",
   "pygments_lexer": "ipython3",
   "version": "3.11.5"
  }
 },
 "nbformat": 4,
 "nbformat_minor": 2
}
