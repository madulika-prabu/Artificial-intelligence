{
 "cells": [
  {
   "cell_type": "markdown",
   "metadata": {},
   "source": [
    "# **Memory bounded heuristic search - IDA star search - Informed search**\n",
    "\n",
    "* It doesn't keep a track of each visited node which helps in saving memory consumption and can be used where memory is constrained. \n",
    "\n",
    "* It is similar to iterative deepening search, the only difference is that instead of reaching same depth for every branch it decides the depth using the f score called as the 'threshold' which increases when a node with greater f score is reached and the algorithm starts all over again from the Beginning upto to the new depth.\n",
    "\n",
    "* So we use an infinite loop which is the base the functtion that is called recursion, when the function returns from the threshold it starts from the beginning through this infinite loop where the function is called initially and the threshold is increased after each return \n",
    "\n",
    "* The threshold is not just randomly increased but it depends on what recursive function returns as the new threshold.\n",
    "\n",
    "* During the recursion whenever a node with higher f score than the threshold is reached that node is not further explored but the f score is noted, since we encounter many such nodes, the minimum of these f score is returned as th new threshold."
   ]
  },
  {
   "cell_type": "code",
   "execution_count": 10,
   "metadata": {},
   "outputs": [],
   "source": [
    "graph = {\n",
    "    'A' : ['B' , 'C'],\n",
    "    'B' : ['D' , 'E' , 'F'],\n",
    "    'C' : ['G' , 'H' , 'I', 'J'],\n",
    "    'D' : [],\n",
    "    'E' : [],\n",
    "    'F' : [],\n",
    "    'G' : [],\n",
    "    'H' : [],\n",
    "    'I' : [],\n",
    "    'J' : []\n",
    "}"
   ]
  },
  {
   "cell_type": "code",
   "execution_count": 11,
   "metadata": {},
   "outputs": [],
   "source": [
    "start = 'A'"
   ]
  },
  {
   "cell_type": "code",
   "execution_count": 12,
   "metadata": {},
   "outputs": [],
   "source": [
    "goal_node = input('Enter the Goal node')"
   ]
  },
  {
   "cell_type": "code",
   "execution_count": 13,
   "metadata": {},
   "outputs": [],
   "source": [
    "F_Score = {'A': 8 , \n",
    "           'B': 11,\n",
    "           'C': 6,\n",
    "           'D': 23,\n",
    "           'E': 24,\n",
    "           'F': 18,\n",
    "           'G': 13,\n",
    "           'H': 7,\n",
    "           'I': 8,\n",
    "           'J': 14}"
   ]
  },
  {
   "cell_type": "code",
   "execution_count": 14,
   "metadata": {},
   "outputs": [],
   "source": [
    "Greater_FValues = []\n",
    "Expanded_Node = []\n",
    "Initial_Threshold = F_Score[start]"
   ]
  },
  {
   "cell_type": "code",
   "execution_count": 15,
   "metadata": {},
   "outputs": [
    {
     "name": "stdout",
     "output_type": "stream",
     "text": [
      "Goal Found I\n",
      "Expanded Node =  ['C', 'H', 'I']\n",
      "Greater F Values =  [11, 13]\n"
     ]
    }
   ],
   "source": [
    "def idastar(start, graph, F_score, Initial_Threshold):\n",
    "    for i in graph[start]:\n",
    "        global Expanded_Node , Greater_FValues\n",
    "\n",
    "        if (F_Score[i] > Initial_Threshold):\n",
    "            Greater_FValues.append(F_Score[i])\n",
    "\n",
    "        elif(F_Score[goal_node] > Initial_Threshold):\n",
    "            Initial_Threshold = F_Score[goal_node]\n",
    "            Expanded_Node = []\n",
    "            Greater_FValues = []\n",
    "            idastar(start, graph, F_Score, Initial_Threshold)\n",
    "\n",
    "        else: \n",
    "            Expanded_Node.append(i)\n",
    "\n",
    "            if ( i==goal_node ):\n",
    "                print('Goal Found', goal_node)\n",
    "                print('Expanded Node = ',Expanded_Node)\n",
    "                print('Greater F Values = ',Greater_FValues)\n",
    "                break\n",
    "\n",
    "            else:\n",
    "                idastar(i, graph, F_Score, Initial_Threshold)\n",
    "\n",
    "idastar(start, graph, F_Score, Initial_Threshold)"
   ]
  }
 ],
 "metadata": {
  "kernelspec": {
   "display_name": "Python 3",
   "language": "python",
   "name": "python3"
  },
  "language_info": {
   "codemirror_mode": {
    "name": "ipython",
    "version": 3
   },
   "file_extension": ".py",
   "mimetype": "text/x-python",
   "name": "python",
   "nbconvert_exporter": "python",
   "pygments_lexer": "ipython3",
   "version": "3.11.5"
  }
 },
 "nbformat": 4,
 "nbformat_minor": 2
}
