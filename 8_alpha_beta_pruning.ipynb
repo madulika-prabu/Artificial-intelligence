{
 "cells": [
  {
   "cell_type": "markdown",
   "metadata": {},
   "source": [
    "# **ALPHA BETA PRUNING ALGORITHM**\n",
    "\n",
    "* Modified version of minimax algo (OPTIMIZATION technique for minimax algo)\n",
    "* As seen in minimax algorithm that no. of game states it has to examine are exponential in depth of the tree. Since we cannot\n",
    "eliminate the exponent, but we can cut it into half.Hence there is a technique by which without checking each node of the game tree\n",
    "we can compute the correct minimax decision, and this technique is called pruning. This involves two threshold parameter. Alpha and Beta for future expansion, so it is called alpha-beto pruning. It is i also called as Alpha Beta pruning (Alpha beta algorithm).\n",
    "* Alpha Beta pruning can be applied at any depth of a tree, and sometime it not only prune the tree leaves but also entire sub-tree\n",
    "* The two-parameter can be defined as\n",
    "    \n",
    "    o Alpha : The best (highest-level) choice we have found so for at any point along the path of maximizer. The initial value of alpha is -∞ \n",
    "    \n",
    "    o Beta: The best (lowest-valued) choice we have found so for at any point along the path of minimizer. The initial value of beta is +∞\n",
    "* The alpha-beta pruning to a standard minimax algorithm returns the same move as the standard algorithm does, but it removes all the nodes which are not really affecting the final decision but making algorithm show. Hence, by pruning these nodes, it makes the algorithion fast.\n",
    "* The main condition which required for alpha-beta pruning is : α >= β\n",
    "* key points about alpha-beta Pruning\n",
    "      \n",
    "    o The MAX player will only update the value of alpha.\n",
    "      \n",
    "    o The MIN player will only update the Value of beta.\n",
    "      \n",
    "    o While backtracking the tree, the node values will be passed to upper nodes instead of values of alpha and beta\n",
    "      \n",
    "    o We will only pass the alpha, beta values to the child nodes.\n",
    "* Graph:\n",
    "                                                      \n",
    "                                                 (α = -∞ , β = +∞)\n",
    "                                                     \n",
    "                                                      A -----------------------> MAX\n",
    "                                                     / \\\n",
    "                                                    /   \\\n",
    "                                                   /     \\\n",
    "                                                  /       \\\n",
    "                                                 /         \\\n",
    "                                                B           C -----------------> MIN\n",
    "                                               / \\         / \\\n",
    "                                              /   \\       /   \\\n",
    "                                              D    E     F     G---------------> MAX\n",
    "                                             / \\  / \\   / \\   / \\\n",
    "                                            2  3  5  9  0  1  7 5 -------------> TERMINAL NODE"
   ]
  },
  {
   "cell_type": "code",
   "execution_count": null,
   "metadata": {},
   "outputs": [],
   "source": [
    "import math"
   ]
  },
  {
   "cell_type": "code",
   "execution_count": null,
   "metadata": {},
   "outputs": [],
   "source": [
    "# Initial values of alpha and beta\n",
    "\n",
    "MAX = -math.inf\n",
    "MIN = +math.inf"
   ]
  },
  {
   "cell_type": "code",
   "execution_count": null,
   "metadata": {},
   "outputs": [],
   "source": [
    "# Return optimal value for current player \n",
    "# Initially called for root and maximizer "
   ]
  },
  {
   "cell_type": "code",
   "execution_count": null,
   "metadata": {},
   "outputs": [],
   "source": [
    "def minimax(depth, nodeIndex, maximizer, values, alpha, beta):\n",
    "    # Terminating condition i.e, leaf node is reached\n",
    "    if depth == 3:\n",
    "        return values[nodeIndex]\n",
    "    \n",
    "    if maximizer:\n",
    "        best = MAX\n",
    "\n",
    "        # Recur for left and right children\n",
    "        for i in range(0,2):\n",
    "            val = minimax( depth+1, nodeIndex*2 +i, False, values, alpha, beta)\n",
    "            best = max( best, val )\n",
    "            alpha = max( alpha, best )\n",
    "\n",
    "            # Alpha Beta Pruning\n",
    "            if alpha >= beta :\n",
    "                break\n",
    "\n",
    "        return best\n",
    "    \n",
    "    else:\n",
    "        best = MIN\n",
    "\n",
    "        # Recur for left and right children\n",
    "        for i in range(0,2):\n",
    "            val = minimax( depth+1, nodeIndex*2 +i, True, values, alpha, beta)\n",
    "            best = min( best, val )\n",
    "            alpha = min( beta, best )\n",
    "\n",
    "            # Alpha Beta Pruning\n",
    "            if alpha >= beta :\n",
    "                break\n",
    "\n",
    "        return best\n"
   ]
  },
  {
   "cell_type": "code",
   "execution_count": null,
   "metadata": {},
   "outputs": [],
   "source": [
    "values = [2, 3, 5, 9, 0, 1, 7, 5]"
   ]
  },
  {
   "cell_type": "code",
   "execution_count": null,
   "metadata": {},
   "outputs": [],
   "source": [
    "print(\"The optimal value is : \", minimax(0, 0, True, values, MAX, MIN))"
   ]
  }
 ],
 "metadata": {
  "language_info": {
   "name": "python"
  }
 },
 "nbformat": 4,
 "nbformat_minor": 2
}
