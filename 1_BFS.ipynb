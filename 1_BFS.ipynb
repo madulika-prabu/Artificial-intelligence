{
 "cells": [
  {
   "cell_type": "markdown",
   "metadata": {},
   "source": [
    "# **Breadth first search - Uninformed search**\n",
    "\n",
    "* Root node expands first, then all the successors of root node are expanded next, then their successors and so on.\n",
    "* All nodes are expanded at a given depth in search tree before any nodes at next level are expanded\n",
    "* These are implemented by calling TREE SEARCH with empty fringe i.e, FIFO queue, assuring that nodes that are visited first will be expanded first [TREE-SEARCH(Problem, FIFO QUEUE())]\n",
    "* FIFO queue puts all newly generated successors at the end of queue (shallow nodes are explained before deeper nodes) "
   ]
  },
  {
   "cell_type": "code",
   "execution_count": 1,
   "metadata": {},
   "outputs": [],
   "source": [
    "graph = {\n",
    "    'A' : ['B' , 'C'],\n",
    "    'B' : ['D' , 'E'],\n",
    "    'C' : [],\n",
    "    'D' : [],\n",
    "    'E' : ['F' , 'G'],\n",
    "    'F' : [],\n",
    "    'G' : []\n",
    "}"
   ]
  },
  {
   "cell_type": "code",
   "execution_count": 2,
   "metadata": {},
   "outputs": [
    {
     "name": "stdout",
     "output_type": "stream",
     "text": [
      "Following is the breadth first search\n",
      "GOAL NOT FOUND\n",
      "Queue =  []\n",
      "Visited =  ['A', 'B', 'C', 'D', 'E', 'F', 'G']\n"
     ]
    }
   ],
   "source": [
    "visited = []\n",
    "queue = []\n",
    "\n",
    "goal_node = input('Enter the goal node')\n",
    "\n",
    "def bfs(visited, graph, node, goal_node):\n",
    "    queue.append(node)\n",
    "    \n",
    "    while queue:\n",
    "        v = queue.pop(0)\n",
    "        visited.append(v)\n",
    "        if (v==goal_node):\n",
    "            print('GOAL REACHED', goal_node)\n",
    "            break\n",
    "        for neighbour in graph[v]:\n",
    "            if neighbour not in visited:\n",
    "                queue.append(neighbour)\n",
    "    \n",
    "    else:\n",
    "        print('GOAL NOT FOUND')\n",
    "    \n",
    "    print('Queue = ',queue)\n",
    "    print('Visited = ',visited)\n",
    "\n",
    "\n",
    "print('Following is the breadth first search')\n",
    "bfs(visited, graph, 'A', goal_node)\n"
   ]
  },
  {
   "cell_type": "markdown",
   "metadata": {},
   "source": [
    "NOTE : For enter the goal_node. it is case sensitive (c is diferent and C is different)"
   ]
  },
  {
   "cell_type": "markdown",
   "metadata": {},
   "source": []
  },
  {
   "cell_type": "markdown",
   "metadata": {},
   "source": []
  }
 ],
 "metadata": {
  "kernelspec": {
   "display_name": "Python 3",
   "language": "python",
   "name": "python3"
  },
  "language_info": {
   "codemirror_mode": {
    "name": "ipython",
    "version": 3
   },
   "file_extension": ".py",
   "mimetype": "text/x-python",
   "name": "python",
   "nbconvert_exporter": "python",
   "pygments_lexer": "ipython3",
   "version": "3.11.5"
  }
 },
 "nbformat": 4,
 "nbformat_minor": 2
}
