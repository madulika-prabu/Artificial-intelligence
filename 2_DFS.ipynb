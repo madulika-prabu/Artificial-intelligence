{
 "cells": [
  {
   "cell_type": "markdown",
   "metadata": {},
   "source": [
    "# **Depth first search - Uninformed search**\n",
    "\n",
    "* Expands the deepest node in the current fringe of search tree, where the nodes have no successor.\n",
    "* As the nodes are expanded they are dropped from the fringe. So then the search \"BACK-UP\" to the next shallowest node that still have unexpected successor.\n",
    "* These are implemented by calling TREE SEARCH with LIFO queue, calles STACK\n",
    "* It needs to store only a single path from root to leaf node along with remainingunexpanded sibling nodes for each node on the path \n",
    "* Once node has been expanded, it can be removed from memory \n",
    "* Graph:\n",
    "\n",
    "                                                     \n",
    "                                                      A \n",
    "                                                     / \\\n",
    "                                                    /   \\\n",
    "                                                   /     \\\n",
    "                                                  /       \\\n",
    "                                                 /         \\\n",
    "                                                B           C \n",
    "                                               / \\         \n",
    "                                              /   \\     \n",
    "                                              D    E     \n",
    "                                                  / \\   \n",
    "                                                  F  G"
   ]
  },
  {
   "cell_type": "code",
   "execution_count": 1,
   "metadata": {},
   "outputs": [],
   "source": [
    "graph = {\n",
    "    'A' : ['B' , 'C'],\n",
    "    'B' : ['D' , 'E'],\n",
    "    'C' : [],\n",
    "    'D' : [],\n",
    "    'E' : ['F' , 'G'],\n",
    "    'F' : [],\n",
    "    'G' : []\n",
    "}"
   ]
  },
  {
   "cell_type": "code",
   "execution_count": null,
   "metadata": {},
   "outputs": [],
   "source": [
    "visited = []\n",
    "flag = 0\n",
    "\n",
    "\n",
    "def dfs(visited, graph, node):\n",
    "    global flag\n",
    "    \n",
    "    if node not in visited:\n",
    "        print(node)\n",
    "        visited.append(node)\n",
    "        if (node==goal_node):\n",
    "            print('GOAL REACHED', goal_node)\n",
    "            quit()\n",
    "\n",
    "        else:\n",
    "            for neighbour in graph [node]:\n",
    "                flag = 1\n",
    "                dfs(visited, graph, neighbour)\n",
    "    \n",
    "    return flag\n",
    "        \n",
    "\n",
    "print('Following is the depth first search')\n",
    "goal_node = input('Enter the goal node')\n",
    "result = dfs(visited, graph, 'A')\n",
    "\n",
    "if flag == 1:\n",
    "    print('GOAL NOT FOUND')\n"
   ]
  }
 ],
 "metadata": {
  "kernelspec": {
   "display_name": "Python 3",
   "language": "python",
   "name": "python3"
  },
  "language_info": {
   "codemirror_mode": {
    "name": "ipython",
    "version": 3
   },
   "file_extension": ".py",
   "mimetype": "text/x-python",
   "name": "python",
   "nbconvert_exporter": "python",
   "pygments_lexer": "ipython3",
   "version": "3.11.5"
  }
 },
 "nbformat": 4,
 "nbformat_minor": 2
}
